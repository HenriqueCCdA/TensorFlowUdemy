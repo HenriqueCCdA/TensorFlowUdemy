{
 "cells": [
  {
   "cell_type": "code",
   "execution_count": 43,
   "metadata": {},
   "outputs": [
    {
     "data": {
      "text/html": [
       "<div>\n",
       "<style scoped>\n",
       "    .dataframe tbody tr th:only-of-type {\n",
       "        vertical-align: middle;\n",
       "    }\n",
       "\n",
       "    .dataframe tbody tr th {\n",
       "        vertical-align: top;\n",
       "    }\n",
       "\n",
       "    .dataframe thead th {\n",
       "        text-align: right;\n",
       "    }\n",
       "</style>\n",
       "<table border=\"1\" class=\"dataframe\">\n",
       "  <thead>\n",
       "    <tr style=\"text-align: right;\">\n",
       "      <th></th>\n",
       "      <th>age</th>\n",
       "      <th>workclass</th>\n",
       "      <th>final-weight</th>\n",
       "      <th>education</th>\n",
       "      <th>education-num</th>\n",
       "      <th>marital-status</th>\n",
       "      <th>occupation</th>\n",
       "      <th>relationship</th>\n",
       "      <th>race</th>\n",
       "      <th>sex</th>\n",
       "      <th>capital-gain</th>\n",
       "      <th>capital-loos</th>\n",
       "      <th>hour-per-week</th>\n",
       "      <th>native-country</th>\n",
       "      <th>income</th>\n",
       "    </tr>\n",
       "  </thead>\n",
       "  <tbody>\n",
       "    <tr>\n",
       "      <th>0</th>\n",
       "      <td>39</td>\n",
       "      <td>State-gov</td>\n",
       "      <td>77516</td>\n",
       "      <td>Bachelors</td>\n",
       "      <td>13</td>\n",
       "      <td>Never-married</td>\n",
       "      <td>Adm-clerical</td>\n",
       "      <td>Not-in-family</td>\n",
       "      <td>White</td>\n",
       "      <td>Male</td>\n",
       "      <td>2174</td>\n",
       "      <td>0</td>\n",
       "      <td>40</td>\n",
       "      <td>United-States</td>\n",
       "      <td>&lt;=50K</td>\n",
       "    </tr>\n",
       "    <tr>\n",
       "      <th>1</th>\n",
       "      <td>50</td>\n",
       "      <td>Self-emp-not-inc</td>\n",
       "      <td>83311</td>\n",
       "      <td>Bachelors</td>\n",
       "      <td>13</td>\n",
       "      <td>Married-civ-spouse</td>\n",
       "      <td>Exec-managerial</td>\n",
       "      <td>Husband</td>\n",
       "      <td>White</td>\n",
       "      <td>Male</td>\n",
       "      <td>0</td>\n",
       "      <td>0</td>\n",
       "      <td>13</td>\n",
       "      <td>United-States</td>\n",
       "      <td>&lt;=50K</td>\n",
       "    </tr>\n",
       "    <tr>\n",
       "      <th>2</th>\n",
       "      <td>38</td>\n",
       "      <td>Private</td>\n",
       "      <td>215646</td>\n",
       "      <td>HS-grad</td>\n",
       "      <td>9</td>\n",
       "      <td>Divorced</td>\n",
       "      <td>Handlers-cleaners</td>\n",
       "      <td>Not-in-family</td>\n",
       "      <td>White</td>\n",
       "      <td>Male</td>\n",
       "      <td>0</td>\n",
       "      <td>0</td>\n",
       "      <td>40</td>\n",
       "      <td>United-States</td>\n",
       "      <td>&lt;=50K</td>\n",
       "    </tr>\n",
       "    <tr>\n",
       "      <th>3</th>\n",
       "      <td>53</td>\n",
       "      <td>Private</td>\n",
       "      <td>234721</td>\n",
       "      <td>11th</td>\n",
       "      <td>7</td>\n",
       "      <td>Married-civ-spouse</td>\n",
       "      <td>Handlers-cleaners</td>\n",
       "      <td>Husband</td>\n",
       "      <td>Black</td>\n",
       "      <td>Male</td>\n",
       "      <td>0</td>\n",
       "      <td>0</td>\n",
       "      <td>40</td>\n",
       "      <td>United-States</td>\n",
       "      <td>&lt;=50K</td>\n",
       "    </tr>\n",
       "    <tr>\n",
       "      <th>4</th>\n",
       "      <td>28</td>\n",
       "      <td>Private</td>\n",
       "      <td>338409</td>\n",
       "      <td>Bachelors</td>\n",
       "      <td>13</td>\n",
       "      <td>Married-civ-spouse</td>\n",
       "      <td>Prof-specialty</td>\n",
       "      <td>Wife</td>\n",
       "      <td>Black</td>\n",
       "      <td>Female</td>\n",
       "      <td>0</td>\n",
       "      <td>0</td>\n",
       "      <td>40</td>\n",
       "      <td>Cuba</td>\n",
       "      <td>&lt;=50K</td>\n",
       "    </tr>\n",
       "  </tbody>\n",
       "</table>\n",
       "</div>"
      ],
      "text/plain": [
       "   age          workclass  final-weight   education  education-num  \\\n",
       "0   39          State-gov         77516   Bachelors             13   \n",
       "1   50   Self-emp-not-inc         83311   Bachelors             13   \n",
       "2   38            Private        215646     HS-grad              9   \n",
       "3   53            Private        234721        11th              7   \n",
       "4   28            Private        338409   Bachelors             13   \n",
       "\n",
       "        marital-status          occupation    relationship    race      sex  \\\n",
       "0        Never-married        Adm-clerical   Not-in-family   White     Male   \n",
       "1   Married-civ-spouse     Exec-managerial         Husband   White     Male   \n",
       "2             Divorced   Handlers-cleaners   Not-in-family   White     Male   \n",
       "3   Married-civ-spouse   Handlers-cleaners         Husband   Black     Male   \n",
       "4   Married-civ-spouse      Prof-specialty            Wife   Black   Female   \n",
       "\n",
       "   capital-gain  capital-loos  hour-per-week  native-country  income  \n",
       "0          2174             0             40   United-States   <=50K  \n",
       "1             0             0             13   United-States   <=50K  \n",
       "2             0             0             40   United-States   <=50K  \n",
       "3             0             0             40   United-States   <=50K  \n",
       "4             0             0             40            Cuba   <=50K  "
      ]
     },
     "execution_count": 43,
     "metadata": {},
     "output_type": "execute_result"
    }
   ],
   "source": [
    "import pandas as pd\n",
    "base = pd.read_csv('census.csv')\n",
    "base.head()"
   ]
  },
  {
   "cell_type": "code",
   "execution_count": 44,
   "metadata": {},
   "outputs": [
    {
     "data": {
      "text/plain": [
       "array([' <=50K', ' >50K'], dtype=object)"
      ]
     },
     "execution_count": 44,
     "metadata": {},
     "output_type": "execute_result"
    }
   ],
   "source": [
    "base['income'].unique()"
   ]
  },
  {
   "cell_type": "code",
   "execution_count": 45,
   "metadata": {},
   "outputs": [],
   "source": [
    "def converte_classe(rotulo):\n",
    "    return int(rotulo == ' >50K')"
   ]
  },
  {
   "cell_type": "code",
   "execution_count": 46,
   "metadata": {},
   "outputs": [],
   "source": [
    "base['income'] = base['income'].apply(converte_classe)"
   ]
  },
  {
   "cell_type": "code",
   "execution_count": 47,
   "metadata": {},
   "outputs": [
    {
     "data": {
      "text/html": [
       "<div>\n",
       "<style scoped>\n",
       "    .dataframe tbody tr th:only-of-type {\n",
       "        vertical-align: middle;\n",
       "    }\n",
       "\n",
       "    .dataframe tbody tr th {\n",
       "        vertical-align: top;\n",
       "    }\n",
       "\n",
       "    .dataframe thead th {\n",
       "        text-align: right;\n",
       "    }\n",
       "</style>\n",
       "<table border=\"1\" class=\"dataframe\">\n",
       "  <thead>\n",
       "    <tr style=\"text-align: right;\">\n",
       "      <th></th>\n",
       "      <th>age</th>\n",
       "      <th>workclass</th>\n",
       "      <th>final-weight</th>\n",
       "      <th>education</th>\n",
       "      <th>education-num</th>\n",
       "      <th>marital-status</th>\n",
       "      <th>occupation</th>\n",
       "      <th>relationship</th>\n",
       "      <th>race</th>\n",
       "      <th>sex</th>\n",
       "      <th>capital-gain</th>\n",
       "      <th>capital-loos</th>\n",
       "      <th>hour-per-week</th>\n",
       "      <th>native-country</th>\n",
       "      <th>income</th>\n",
       "    </tr>\n",
       "  </thead>\n",
       "  <tbody>\n",
       "    <tr>\n",
       "      <th>0</th>\n",
       "      <td>39</td>\n",
       "      <td>State-gov</td>\n",
       "      <td>77516</td>\n",
       "      <td>Bachelors</td>\n",
       "      <td>13</td>\n",
       "      <td>Never-married</td>\n",
       "      <td>Adm-clerical</td>\n",
       "      <td>Not-in-family</td>\n",
       "      <td>White</td>\n",
       "      <td>Male</td>\n",
       "      <td>2174</td>\n",
       "      <td>0</td>\n",
       "      <td>40</td>\n",
       "      <td>United-States</td>\n",
       "      <td>0</td>\n",
       "    </tr>\n",
       "    <tr>\n",
       "      <th>1</th>\n",
       "      <td>50</td>\n",
       "      <td>Self-emp-not-inc</td>\n",
       "      <td>83311</td>\n",
       "      <td>Bachelors</td>\n",
       "      <td>13</td>\n",
       "      <td>Married-civ-spouse</td>\n",
       "      <td>Exec-managerial</td>\n",
       "      <td>Husband</td>\n",
       "      <td>White</td>\n",
       "      <td>Male</td>\n",
       "      <td>0</td>\n",
       "      <td>0</td>\n",
       "      <td>13</td>\n",
       "      <td>United-States</td>\n",
       "      <td>0</td>\n",
       "    </tr>\n",
       "    <tr>\n",
       "      <th>2</th>\n",
       "      <td>38</td>\n",
       "      <td>Private</td>\n",
       "      <td>215646</td>\n",
       "      <td>HS-grad</td>\n",
       "      <td>9</td>\n",
       "      <td>Divorced</td>\n",
       "      <td>Handlers-cleaners</td>\n",
       "      <td>Not-in-family</td>\n",
       "      <td>White</td>\n",
       "      <td>Male</td>\n",
       "      <td>0</td>\n",
       "      <td>0</td>\n",
       "      <td>40</td>\n",
       "      <td>United-States</td>\n",
       "      <td>0</td>\n",
       "    </tr>\n",
       "    <tr>\n",
       "      <th>3</th>\n",
       "      <td>53</td>\n",
       "      <td>Private</td>\n",
       "      <td>234721</td>\n",
       "      <td>11th</td>\n",
       "      <td>7</td>\n",
       "      <td>Married-civ-spouse</td>\n",
       "      <td>Handlers-cleaners</td>\n",
       "      <td>Husband</td>\n",
       "      <td>Black</td>\n",
       "      <td>Male</td>\n",
       "      <td>0</td>\n",
       "      <td>0</td>\n",
       "      <td>40</td>\n",
       "      <td>United-States</td>\n",
       "      <td>0</td>\n",
       "    </tr>\n",
       "    <tr>\n",
       "      <th>4</th>\n",
       "      <td>28</td>\n",
       "      <td>Private</td>\n",
       "      <td>338409</td>\n",
       "      <td>Bachelors</td>\n",
       "      <td>13</td>\n",
       "      <td>Married-civ-spouse</td>\n",
       "      <td>Prof-specialty</td>\n",
       "      <td>Wife</td>\n",
       "      <td>Black</td>\n",
       "      <td>Female</td>\n",
       "      <td>0</td>\n",
       "      <td>0</td>\n",
       "      <td>40</td>\n",
       "      <td>Cuba</td>\n",
       "      <td>0</td>\n",
       "    </tr>\n",
       "  </tbody>\n",
       "</table>\n",
       "</div>"
      ],
      "text/plain": [
       "   age          workclass  final-weight   education  education-num  \\\n",
       "0   39          State-gov         77516   Bachelors             13   \n",
       "1   50   Self-emp-not-inc         83311   Bachelors             13   \n",
       "2   38            Private        215646     HS-grad              9   \n",
       "3   53            Private        234721        11th              7   \n",
       "4   28            Private        338409   Bachelors             13   \n",
       "\n",
       "        marital-status          occupation    relationship    race      sex  \\\n",
       "0        Never-married        Adm-clerical   Not-in-family   White     Male   \n",
       "1   Married-civ-spouse     Exec-managerial         Husband   White     Male   \n",
       "2             Divorced   Handlers-cleaners   Not-in-family   White     Male   \n",
       "3   Married-civ-spouse   Handlers-cleaners         Husband   Black     Male   \n",
       "4   Married-civ-spouse      Prof-specialty            Wife   Black   Female   \n",
       "\n",
       "   capital-gain  capital-loos  hour-per-week  native-country  income  \n",
       "0          2174             0             40   United-States       0  \n",
       "1             0             0             13   United-States       0  \n",
       "2             0             0             40   United-States       0  \n",
       "3             0             0             40   United-States       0  \n",
       "4             0             0             40            Cuba       0  "
      ]
     },
     "execution_count": 47,
     "metadata": {},
     "output_type": "execute_result"
    }
   ],
   "source": [
    "base.head()"
   ]
  },
  {
   "cell_type": "code",
   "execution_count": 48,
   "metadata": {},
   "outputs": [
    {
     "data": {
      "text/plain": [
       "array([0, 1])"
      ]
     },
     "execution_count": 48,
     "metadata": {},
     "output_type": "execute_result"
    }
   ],
   "source": [
    "base['income'].unique()"
   ]
  },
  {
   "cell_type": "code",
   "execution_count": 49,
   "metadata": {},
   "outputs": [],
   "source": [
    "X = base.drop('income', axis=1)"
   ]
  },
  {
   "cell_type": "code",
   "execution_count": 50,
   "metadata": {},
   "outputs": [
    {
     "data": {
      "text/html": [
       "<div>\n",
       "<style scoped>\n",
       "    .dataframe tbody tr th:only-of-type {\n",
       "        vertical-align: middle;\n",
       "    }\n",
       "\n",
       "    .dataframe tbody tr th {\n",
       "        vertical-align: top;\n",
       "    }\n",
       "\n",
       "    .dataframe thead th {\n",
       "        text-align: right;\n",
       "    }\n",
       "</style>\n",
       "<table border=\"1\" class=\"dataframe\">\n",
       "  <thead>\n",
       "    <tr style=\"text-align: right;\">\n",
       "      <th></th>\n",
       "      <th>age</th>\n",
       "      <th>workclass</th>\n",
       "      <th>final-weight</th>\n",
       "      <th>education</th>\n",
       "      <th>education-num</th>\n",
       "      <th>marital-status</th>\n",
       "      <th>occupation</th>\n",
       "      <th>relationship</th>\n",
       "      <th>race</th>\n",
       "      <th>sex</th>\n",
       "      <th>capital-gain</th>\n",
       "      <th>capital-loos</th>\n",
       "      <th>hour-per-week</th>\n",
       "      <th>native-country</th>\n",
       "    </tr>\n",
       "  </thead>\n",
       "  <tbody>\n",
       "    <tr>\n",
       "      <th>0</th>\n",
       "      <td>39</td>\n",
       "      <td>State-gov</td>\n",
       "      <td>77516</td>\n",
       "      <td>Bachelors</td>\n",
       "      <td>13</td>\n",
       "      <td>Never-married</td>\n",
       "      <td>Adm-clerical</td>\n",
       "      <td>Not-in-family</td>\n",
       "      <td>White</td>\n",
       "      <td>Male</td>\n",
       "      <td>2174</td>\n",
       "      <td>0</td>\n",
       "      <td>40</td>\n",
       "      <td>United-States</td>\n",
       "    </tr>\n",
       "    <tr>\n",
       "      <th>1</th>\n",
       "      <td>50</td>\n",
       "      <td>Self-emp-not-inc</td>\n",
       "      <td>83311</td>\n",
       "      <td>Bachelors</td>\n",
       "      <td>13</td>\n",
       "      <td>Married-civ-spouse</td>\n",
       "      <td>Exec-managerial</td>\n",
       "      <td>Husband</td>\n",
       "      <td>White</td>\n",
       "      <td>Male</td>\n",
       "      <td>0</td>\n",
       "      <td>0</td>\n",
       "      <td>13</td>\n",
       "      <td>United-States</td>\n",
       "    </tr>\n",
       "    <tr>\n",
       "      <th>2</th>\n",
       "      <td>38</td>\n",
       "      <td>Private</td>\n",
       "      <td>215646</td>\n",
       "      <td>HS-grad</td>\n",
       "      <td>9</td>\n",
       "      <td>Divorced</td>\n",
       "      <td>Handlers-cleaners</td>\n",
       "      <td>Not-in-family</td>\n",
       "      <td>White</td>\n",
       "      <td>Male</td>\n",
       "      <td>0</td>\n",
       "      <td>0</td>\n",
       "      <td>40</td>\n",
       "      <td>United-States</td>\n",
       "    </tr>\n",
       "    <tr>\n",
       "      <th>3</th>\n",
       "      <td>53</td>\n",
       "      <td>Private</td>\n",
       "      <td>234721</td>\n",
       "      <td>11th</td>\n",
       "      <td>7</td>\n",
       "      <td>Married-civ-spouse</td>\n",
       "      <td>Handlers-cleaners</td>\n",
       "      <td>Husband</td>\n",
       "      <td>Black</td>\n",
       "      <td>Male</td>\n",
       "      <td>0</td>\n",
       "      <td>0</td>\n",
       "      <td>40</td>\n",
       "      <td>United-States</td>\n",
       "    </tr>\n",
       "    <tr>\n",
       "      <th>4</th>\n",
       "      <td>28</td>\n",
       "      <td>Private</td>\n",
       "      <td>338409</td>\n",
       "      <td>Bachelors</td>\n",
       "      <td>13</td>\n",
       "      <td>Married-civ-spouse</td>\n",
       "      <td>Prof-specialty</td>\n",
       "      <td>Wife</td>\n",
       "      <td>Black</td>\n",
       "      <td>Female</td>\n",
       "      <td>0</td>\n",
       "      <td>0</td>\n",
       "      <td>40</td>\n",
       "      <td>Cuba</td>\n",
       "    </tr>\n",
       "  </tbody>\n",
       "</table>\n",
       "</div>"
      ],
      "text/plain": [
       "   age          workclass  final-weight   education  education-num  \\\n",
       "0   39          State-gov         77516   Bachelors             13   \n",
       "1   50   Self-emp-not-inc         83311   Bachelors             13   \n",
       "2   38            Private        215646     HS-grad              9   \n",
       "3   53            Private        234721        11th              7   \n",
       "4   28            Private        338409   Bachelors             13   \n",
       "\n",
       "        marital-status          occupation    relationship    race      sex  \\\n",
       "0        Never-married        Adm-clerical   Not-in-family   White     Male   \n",
       "1   Married-civ-spouse     Exec-managerial         Husband   White     Male   \n",
       "2             Divorced   Handlers-cleaners   Not-in-family   White     Male   \n",
       "3   Married-civ-spouse   Handlers-cleaners         Husband   Black     Male   \n",
       "4   Married-civ-spouse      Prof-specialty            Wife   Black   Female   \n",
       "\n",
       "   capital-gain  capital-loos  hour-per-week  native-country  \n",
       "0          2174             0             40   United-States  \n",
       "1             0             0             13   United-States  \n",
       "2             0             0             40   United-States  \n",
       "3             0             0             40   United-States  \n",
       "4             0             0             40            Cuba  "
      ]
     },
     "execution_count": 50,
     "metadata": {},
     "output_type": "execute_result"
    }
   ],
   "source": [
    "X.head()"
   ]
  },
  {
   "cell_type": "code",
   "execution_count": 51,
   "metadata": {},
   "outputs": [],
   "source": [
    "y = base['income']"
   ]
  },
  {
   "cell_type": "code",
   "execution_count": 52,
   "metadata": {},
   "outputs": [
    {
     "data": {
      "text/plain": [
       "0    0\n",
       "1    0\n",
       "2    0\n",
       "3    0\n",
       "4    0\n",
       "Name: income, dtype: int64"
      ]
     },
     "execution_count": 52,
     "metadata": {},
     "output_type": "execute_result"
    }
   ],
   "source": [
    "y.head()"
   ]
  },
  {
   "cell_type": "code",
   "execution_count": 53,
   "metadata": {},
   "outputs": [
    {
     "data": {
      "text/plain": [
       "pandas.core.series.Series"
      ]
     },
     "execution_count": 53,
     "metadata": {},
     "output_type": "execute_result"
    }
   ],
   "source": [
    "type(y)"
   ]
  },
  {
   "cell_type": "code",
   "execution_count": 54,
   "metadata": {},
   "outputs": [
    {
     "data": {
      "text/plain": [
       "<Axes: >"
      ]
     },
     "execution_count": 54,
     "metadata": {},
     "output_type": "execute_result"
    },
    {
     "data": {
      "image/png": "[encoded data removed]",
      "text/plain": [
       "<Figure size 640x480 with 1 Axes>"
      ]
     },
     "metadata": {},
     "output_type": "display_data"
    }
   ],
   "source": [
    "base.age.hist()"
   ]
  },
  {
   "cell_type": "code",
   "execution_count": 55,
   "metadata": {},
   "outputs": [
    {
     "data": {
      "text/plain": [
       "'2.11.0'"
      ]
     },
     "execution_count": 55,
     "metadata": {},
     "output_type": "execute_result"
    }
   ],
   "source": [
    "import tensorflow as tf\n",
    "tf.__version__"
   ]
  },
  {
   "cell_type": "code",
   "execution_count": 56,
   "metadata": {},
   "outputs": [],
   "source": [
    "idade = tf.feature_column.numeric_column('age')"
   ]
  },
  {
   "cell_type": "code",
   "execution_count": 57,
   "metadata": {},
   "outputs": [],
   "source": [
    "idade_categorica = [\n",
    "    tf.feature_column.bucketized_column(idade, boundaries=[\n",
    "        20, 30, 40, 50, 60, 70, 80, 90\n",
    "    ])\n",
    "]"
   ]
  },
  {
   "cell_type": "code",
   "execution_count": 58,
   "metadata": {},
   "outputs": [
    {
     "name": "stdout",
     "output_type": "stream",
     "text": [
      "[BucketizedColumn(source_column=NumericColumn(key='age', shape=(1,), default_value=None, dtype=tf.float32, normalizer_fn=None), boundaries=(20, 30, 40, 50, 60, 70, 80, 90))]\n"
     ]
    }
   ],
   "source": [
    "print(idade_categorica)"
   ]
  },
  {
   "cell_type": "code",
   "execution_count": 59,
   "metadata": {},
   "outputs": [
    {
     "data": {
      "text/plain": [
       "Index(['age', 'workclass', 'final-weight', 'education', 'education-num',\n",
       "       'marital-status', 'occupation', 'relationship', 'race', 'sex',\n",
       "       'capital-gain', 'capital-loos', 'hour-per-week', 'native-country'],\n",
       "      dtype='object')"
      ]
     },
     "execution_count": 59,
     "metadata": {},
     "output_type": "execute_result"
    }
   ],
   "source": [
    "X.columns"
   ]
  },
  {
   "cell_type": "code",
   "execution_count": 60,
   "metadata": {},
   "outputs": [],
   "source": [
    "nome_colunas_categoricas = ['workclass', 'education', 'marital-status', 'occupation', 'relationship', 'race', 'sex', 'native-country']"
   ]
  },
  {
   "cell_type": "code",
   "execution_count": 61,
   "metadata": {},
   "outputs": [
    {
     "data": {
      "text/plain": [
       "array([' Male', ' Female'], dtype=object)"
      ]
     },
     "execution_count": 61,
     "metadata": {},
     "output_type": "execute_result"
    }
   ],
   "source": [
    "X['sex'].unique()"
   ]
  },
  {
   "cell_type": "code",
   "execution_count": 62,
   "metadata": {},
   "outputs": [
    {
     "data": {
      "text/plain": [
       "array([' State-gov', ' Self-emp-not-inc', ' Private', ' Federal-gov',\n",
       "       ' Local-gov', ' ?', ' Self-emp-inc', ' Without-pay',\n",
       "       ' Never-worked'], dtype=object)"
      ]
     },
     "execution_count": 62,
     "metadata": {},
     "output_type": "execute_result"
    }
   ],
   "source": [
    "X['workclass'].unique()"
   ]
  },
  {
   "cell_type": "code",
   "execution_count": 63,
   "metadata": {},
   "outputs": [
    {
     "data": {
      "text/plain": [
       "array([' United-States', ' Cuba', ' Jamaica', ' India', ' ?', ' Mexico',\n",
       "       ' South', ' Puerto-Rico', ' Honduras', ' England', ' Canada',\n",
       "       ' Germany', ' Iran', ' Philippines', ' Italy', ' Poland',\n",
       "       ' Columbia', ' Cambodia', ' Thailand', ' Ecuador', ' Laos',\n",
       "       ' Taiwan', ' Haiti', ' Portugal', ' Dominican-Republic',\n",
       "       ' El-Salvador', ' France', ' Guatemala', ' China', ' Japan',\n",
       "       ' Yugoslavia', ' Peru', ' Outlying-US(Guam-USVI-etc)', ' Scotland',\n",
       "       ' Trinadad&Tobago', ' Greece', ' Nicaragua', ' Vietnam', ' Hong',\n",
       "       ' Ireland', ' Hungary', ' Holand-Netherlands'], dtype=object)"
      ]
     },
     "execution_count": 63,
     "metadata": {},
     "output_type": "execute_result"
    }
   ],
   "source": [
    "X['native-country'].unique()"
   ]
  },
  {
   "cell_type": "code",
   "execution_count": 64,
   "metadata": {},
   "outputs": [],
   "source": [
    "colunas_categoricas = [\n",
    "    tf.feature_column.categorical_column_with_vocabulary_list(\n",
    "        key = c, vocabulary_list = X[c].unique()\n",
    "    ) for c in nome_colunas_categoricas\n",
    "]"
   ]
  },
  {
   "cell_type": "code",
   "execution_count": 65,
   "metadata": {},
   "outputs": [
    {
     "name": "stdout",
     "output_type": "stream",
     "text": [
      "VocabularyListCategoricalColumn(key='occupation', vocabulary_list=(' Adm-clerical', ' Exec-managerial', ' Handlers-cleaners', ' Prof-specialty', ' Other-service', ' Sales', ' Craft-repair', ' Transport-moving', ' Farming-fishing', ' Machine-op-inspct', ' Tech-support', ' ?', ' Protective-serv', ' Armed-Forces', ' Priv-house-serv'), dtype=tf.string, default_value=-1, num_oov_buckets=0)\n"
     ]
    }
   ],
   "source": [
    "print(colunas_categoricas[3])"
   ]
  },
  {
   "cell_type": "code",
   "execution_count": 66,
   "metadata": {},
   "outputs": [
    {
     "name": "stdout",
     "output_type": "stream",
     "text": [
      "VocabularyListCategoricalColumn(key='sex', vocabulary_list=(' Male', ' Female'), dtype=tf.string, default_value=-1, num_oov_buckets=0)\n"
     ]
    }
   ],
   "source": [
    "print(colunas_categoricas[-2])"
   ]
  },
  {
   "cell_type": "code",
   "execution_count": 80,
   "metadata": {},
   "outputs": [],
   "source": [
    "nome_colunas_numericas = [\n",
    "    'final-weight',\n",
    "    'education-num',\n",
    "    'capital-gain',\n",
    "    'capital-loos',\n",
    "    'hour-per-week',\n",
    "]"
   ]
  },
  {
   "cell_type": "code",
   "execution_count": 81,
   "metadata": {},
   "outputs": [],
   "source": [
    "colunas_numericas = [tf.feature_column.numeric_column(key=c) for c in nome_colunas_numericas]"
   ]
  },
  {
   "cell_type": "code",
   "execution_count": 82,
   "metadata": {},
   "outputs": [
    {
     "name": "stdout",
     "output_type": "stream",
     "text": [
      "NumericColumn(key='final-weight', shape=(1,), default_value=None, dtype=tf.float32, normalizer_fn=None)\n"
     ]
    }
   ],
   "source": [
    "print(colunas_numericas[0])"
   ]
  },
  {
   "cell_type": "code",
   "execution_count": 83,
   "metadata": {},
   "outputs": [],
   "source": [
    "colunas = idade_categorica + colunas_categoricas + colunas_numericas"
   ]
  },
  {
   "cell_type": "code",
   "execution_count": 84,
   "metadata": {},
   "outputs": [
    {
     "data": {
      "text/plain": [
       "[BucketizedColumn(source_column=NumericColumn(key='age', shape=(1,), default_value=None, dtype=tf.float32, normalizer_fn=None), boundaries=(20, 30, 40, 50, 60, 70, 80, 90)),\n",
       " VocabularyListCategoricalColumn(key='workclass', vocabulary_list=(' State-gov', ' Self-emp-not-inc', ' Private', ' Federal-gov', ' Local-gov', ' ?', ' Self-emp-inc', ' Without-pay', ' Never-worked'), dtype=tf.string, default_value=-1, num_oov_buckets=0),\n",
       " VocabularyListCategoricalColumn(key='education', vocabulary_list=(' Bachelors', ' HS-grad', ' 11th', ' Masters', ' 9th', ' Some-college', ' Assoc-acdm', ' Assoc-voc', ' 7th-8th', ' Doctorate', ' Prof-school', ' 5th-6th', ' 10th', ' 1st-4th', ' Preschool', ' 12th'), dtype=tf.string, default_value=-1, num_oov_buckets=0),\n",
       " VocabularyListCategoricalColumn(key='marital-status', vocabulary_list=(' Never-married', ' Married-civ-spouse', ' Divorced', ' Married-spouse-absent', ' Separated', ' Married-AF-spouse', ' Widowed'), dtype=tf.string, default_value=-1, num_oov_buckets=0),\n",
       " VocabularyListCategoricalColumn(key='occupation', vocabulary_list=(' Adm-clerical', ' Exec-managerial', ' Handlers-cleaners', ' Prof-specialty', ' Other-service', ' Sales', ' Craft-repair', ' Transport-moving', ' Farming-fishing', ' Machine-op-inspct', ' Tech-support', ' ?', ' Protective-serv', ' Armed-Forces', ' Priv-house-serv'), dtype=tf.string, default_value=-1, num_oov_buckets=0),\n",
       " VocabularyListCategoricalColumn(key='relationship', vocabulary_list=(' Not-in-family', ' Husband', ' Wife', ' Own-child', ' Unmarried', ' Other-relative'), dtype=tf.string, default_value=-1, num_oov_buckets=0),\n",
       " VocabularyListCategoricalColumn(key='race', vocabulary_list=(' White', ' Black', ' Asian-Pac-Islander', ' Amer-Indian-Eskimo', ' Other'), dtype=tf.string, default_value=-1, num_oov_buckets=0),\n",
       " VocabularyListCategoricalColumn(key='sex', vocabulary_list=(' Male', ' Female'), dtype=tf.string, default_value=-1, num_oov_buckets=0),\n",
       " VocabularyListCategoricalColumn(key='native-country', vocabulary_list=(' United-States', ' Cuba', ' Jamaica', ' India', ' ?', ' Mexico', ' South', ' Puerto-Rico', ' Honduras', ' England', ' Canada', ' Germany', ' Iran', ' Philippines', ' Italy', ' Poland', ' Columbia', ' Cambodia', ' Thailand', ' Ecuador', ' Laos', ' Taiwan', ' Haiti', ' Portugal', ' Dominican-Republic', ' El-Salvador', ' France', ' Guatemala', ' China', ' Japan', ' Yugoslavia', ' Peru', ' Outlying-US(Guam-USVI-etc)', ' Scotland', ' Trinadad&Tobago', ' Greece', ' Nicaragua', ' Vietnam', ' Hong', ' Ireland', ' Hungary', ' Holand-Netherlands'), dtype=tf.string, default_value=-1, num_oov_buckets=0),\n",
       " NumericColumn(key='final-weight', shape=(1,), default_value=None, dtype=tf.float32, normalizer_fn=None),\n",
       " NumericColumn(key='education-num', shape=(1,), default_value=None, dtype=tf.float32, normalizer_fn=None),\n",
       " NumericColumn(key='capital-gain', shape=(1,), default_value=None, dtype=tf.float32, normalizer_fn=None),\n",
       " NumericColumn(key='capital-loos', shape=(1,), default_value=None, dtype=tf.float32, normalizer_fn=None),\n",
       " NumericColumn(key='hour-per-week', shape=(1,), default_value=None, dtype=tf.float32, normalizer_fn=None)]"
      ]
     },
     "execution_count": 84,
     "metadata": {},
     "output_type": "execute_result"
    }
   ],
   "source": [
    "colunas"
   ]
  },
  {
   "cell_type": "code",
   "execution_count": 85,
   "metadata": {},
   "outputs": [],
   "source": [
    "from sklearn.model_selection import train_test_split\n",
    "X_treinamento, X_teste, y_treinamento, y_teste = train_test_split(X, y, test_size=0.3, random_state = 42)"
   ]
  },
  {
   "cell_type": "code",
   "execution_count": 86,
   "metadata": {},
   "outputs": [
    {
     "data": {
      "text/plain": [
       "((22792, 14), (9769, 14))"
      ]
     },
     "execution_count": 86,
     "metadata": {},
     "output_type": "execute_result"
    }
   ],
   "source": [
    "X_treinamento.shape, X_teste.shape"
   ]
  },
  {
   "cell_type": "code",
   "execution_count": 87,
   "metadata": {},
   "outputs": [],
   "source": [
    "def make_input_fn(X, y = None, num_epochs = None, shuffle = True, batch_size = 32):\n",
    "    def input_function():\n",
    "        ds = tf.data.Dataset.from_tensor_slices((dict(X), y))\n",
    "        if shuffle:\n",
    "            ds = ds.shuffle(1000)\n",
    "        ds = ds.batch(batch_size).repeat(num_epochs)\n",
    "        return ds\n",
    "    return input_function"
   ]
  },
  {
   "cell_type": "code",
   "execution_count": 88,
   "metadata": {},
   "outputs": [],
   "source": [
    "funcao_treinamento = make_input_fn(X_treinamento, y_treinamento)"
   ]
  },
  {
   "cell_type": "code",
   "execution_count": 89,
   "metadata": {},
   "outputs": [
    {
     "name": "stdout",
     "output_type": "stream",
     "text": [
      "WARNING:tensorflow:Using temporary folder as model directory: /tmp/tmpnl_nvbda\n",
      "INFO:tensorflow:Using config: {'_model_dir': '/tmp/tmpnl_nvbda', '_tf_random_seed': 24, '_save_summary_steps': 100, '_save_checkpoints_steps': None, '_save_checkpoints_secs': 600, '_session_config': allow_soft_placement: true\n",
      "graph_options {\n",
      "  rewrite_options {\n",
      "    meta_optimizer_iterations: ONE\n",
      "  }\n",
      "}\n",
      ", '_keep_checkpoint_max': 5, '_keep_checkpoint_every_n_hours': 10000, '_log_step_count_steps': 100, '_train_distribute': None, '_device_fn': None, '_protocol': None, '_eval_distribute': None, '_experimental_distribute': None, '_experimental_max_worker_delay_secs': None, '_session_creation_timeout_secs': 7200, '_checkpoint_save_graph_def': True, '_service': None, '_cluster_spec': ClusterSpec({}), '_task_type': 'worker', '_task_id': 0, '_global_id_in_cluster': 0, '_master': '', '_evaluation_master': '', '_is_chief': True, '_num_ps_replicas': 0, '_num_worker_replicas': 1}\n"
     ]
    }
   ],
   "source": [
    "config = tf.estimator.RunConfig(tf_random_seed=24)\n",
    "classificador = tf.estimator.LinearClassifier(feature_columns=colunas, config=config)"
   ]
  },
  {
   "cell_type": "code",
   "execution_count": 90,
   "metadata": {},
   "outputs": [
    {
     "name": "stdout",
     "output_type": "stream",
     "text": [
      "INFO:tensorflow:Calling model_fn.\n",
      "WARNING:tensorflow:From /home/henrique/Desenvolvimento/repo/pessoal/TensorFlow/.venv/lib/python3.9/site-packages/keras/optimizers/optimizer_v2/ftrl.py:173: calling Constant.__init__ (from tensorflow.python.ops.init_ops) with dtype is deprecated and will be removed in a future version.\n",
      "Instructions for updating:\n",
      "Call initializer instance with the dtype argument instead of passing it to the constructor\n",
      "INFO:tensorflow:Done calling model_fn.\n",
      "INFO:tensorflow:Create CheckpointSaverHook.\n",
      "INFO:tensorflow:Graph was finalized.\n"
     ]
    },
    {
     "name": "stderr",
     "output_type": "stream",
     "text": [
      "2025-04-07 18:34:43.256924: I tensorflow/core/platform/cpu_feature_guard.cc:193] This TensorFlow binary is optimized with oneAPI Deep Neural Network Library (oneDNN) to use the following CPU instructions in performance-critical operations:  AVX2 AVX_VNNI FMA\n",
      "To enable them in other operations, rebuild TensorFlow with the appropriate compiler flags.\n",
      "2025-04-07 18:34:43.281849: I tensorflow/compiler/xla/stream_executor/cuda/cuda_gpu_executor.cc:981] successful NUMA node read from SysFS had negative value (-1), but there must be at least one NUMA node, so returning NUMA node zero\n",
      "2025-04-07 18:34:43.290591: W tensorflow/core/common_runtime/gpu/gpu_device.cc:1934] Cannot dlopen some GPU libraries. Please make sure the missing libraries mentioned above are installed properly if you would like to use GPU. Follow the guide at https://www.tensorflow.org/install/gpu for how to download and setup the required libraries for your platform.\n",
      "Skipping registering GPU devices...\n",
      "2025-04-07 18:34:43.412749: I tensorflow/compiler/mlir/mlir_graph_optimization_pass.cc:357] MLIR V1 optimization pass is not enabled\n"
     ]
    },
    {
     "name": "stdout",
     "output_type": "stream",
     "text": [
      "INFO:tensorflow:Running local_init_op.\n",
      "INFO:tensorflow:Done running local_init_op.\n",
      "INFO:tensorflow:Calling checkpoint listeners before saving checkpoint 0...\n",
      "INFO:tensorflow:Saving checkpoints for 0 into /tmp/tmpnl_nvbda/model.ckpt.\n",
      "INFO:tensorflow:Calling checkpoint listeners after saving checkpoint 0...\n",
      "INFO:tensorflow:loss = 0.6931472, step = 0\n",
      "INFO:tensorflow:global_step/sec: 474.549\n",
      "INFO:tensorflow:loss = 419.5033, step = 100 (0.211 sec)\n",
      "INFO:tensorflow:global_step/sec: 1353.22\n",
      "INFO:tensorflow:loss = 950.53625, step = 200 (0.074 sec)\n",
      "INFO:tensorflow:global_step/sec: 1168.87\n",
      "INFO:tensorflow:loss = 741.1828, step = 300 (0.086 sec)\n",
      "INFO:tensorflow:global_step/sec: 1149.75\n",
      "INFO:tensorflow:loss = 524.70154, step = 400 (0.086 sec)\n",
      "INFO:tensorflow:global_step/sec: 1115.58\n",
      "INFO:tensorflow:loss = 266.64038, step = 500 (0.090 sec)\n",
      "INFO:tensorflow:global_step/sec: 1212.04\n",
      "INFO:tensorflow:loss = 108.149765, step = 600 (0.082 sec)\n",
      "INFO:tensorflow:global_step/sec: 982.169\n",
      "INFO:tensorflow:loss = 540.2141, step = 700 (0.104 sec)\n",
      "INFO:tensorflow:global_step/sec: 992.631\n",
      "INFO:tensorflow:loss = 115.43394, step = 800 (0.099 sec)\n",
      "INFO:tensorflow:global_step/sec: 976.612\n",
      "INFO:tensorflow:loss = 326.3919, step = 900 (0.102 sec)\n",
      "INFO:tensorflow:global_step/sec: 1052.33\n",
      "INFO:tensorflow:loss = 528.81573, step = 1000 (0.095 sec)\n",
      "INFO:tensorflow:global_step/sec: 1144.03\n",
      "INFO:tensorflow:loss = 9.037394, step = 1100 (0.088 sec)\n",
      "INFO:tensorflow:global_step/sec: 1143.38\n",
      "INFO:tensorflow:loss = 154.17352, step = 1200 (0.087 sec)\n",
      "INFO:tensorflow:global_step/sec: 1085.09\n",
      "INFO:tensorflow:loss = 139.32463, step = 1300 (0.092 sec)\n",
      "INFO:tensorflow:global_step/sec: 827.06\n",
      "INFO:tensorflow:loss = 177.86612, step = 1400 (0.121 sec)\n",
      "INFO:tensorflow:global_step/sec: 1003.28\n",
      "INFO:tensorflow:loss = 786.708, step = 1500 (0.099 sec)\n",
      "INFO:tensorflow:global_step/sec: 1098.41\n",
      "INFO:tensorflow:loss = 127.484924, step = 1600 (0.091 sec)\n",
      "INFO:tensorflow:global_step/sec: 1160.85\n",
      "INFO:tensorflow:loss = 63.25025, step = 1700 (0.086 sec)\n",
      "INFO:tensorflow:global_step/sec: 1192.98\n",
      "INFO:tensorflow:loss = 154.13449, step = 1800 (0.084 sec)\n",
      "INFO:tensorflow:global_step/sec: 1069.29\n",
      "INFO:tensorflow:loss = 26.688337, step = 1900 (0.094 sec)\n",
      "INFO:tensorflow:global_step/sec: 1105.66\n",
      "INFO:tensorflow:loss = 199.9026, step = 2000 (0.090 sec)\n",
      "INFO:tensorflow:global_step/sec: 1070.24\n",
      "INFO:tensorflow:loss = 116.244415, step = 2100 (0.093 sec)\n",
      "INFO:tensorflow:global_step/sec: 1320.15\n",
      "INFO:tensorflow:loss = 365.20538, step = 2200 (0.076 sec)\n",
      "INFO:tensorflow:global_step/sec: 1218.33\n",
      "INFO:tensorflow:loss = 12.909942, step = 2300 (0.082 sec)\n",
      "INFO:tensorflow:global_step/sec: 956.298\n",
      "INFO:tensorflow:loss = 140.43893, step = 2400 (0.105 sec)\n",
      "INFO:tensorflow:global_step/sec: 1127.46\n",
      "INFO:tensorflow:loss = 55.126717, step = 2500 (0.088 sec)\n",
      "INFO:tensorflow:global_step/sec: 1009.55\n",
      "INFO:tensorflow:loss = 319.08307, step = 2600 (0.099 sec)\n",
      "INFO:tensorflow:global_step/sec: 1044.59\n",
      "INFO:tensorflow:loss = 96.29632, step = 2700 (0.095 sec)\n",
      "INFO:tensorflow:global_step/sec: 1278.97\n",
      "INFO:tensorflow:loss = 89.20369, step = 2800 (0.078 sec)\n",
      "INFO:tensorflow:global_step/sec: 1080.7\n",
      "INFO:tensorflow:loss = 85.895546, step = 2900 (0.092 sec)\n",
      "INFO:tensorflow:global_step/sec: 1097.36\n",
      "INFO:tensorflow:loss = 28.807274, step = 3000 (0.092 sec)\n",
      "INFO:tensorflow:global_step/sec: 1022.81\n",
      "INFO:tensorflow:loss = 99.72922, step = 3100 (0.097 sec)\n",
      "INFO:tensorflow:global_step/sec: 1080.98\n",
      "INFO:tensorflow:loss = 144.73346, step = 3200 (0.093 sec)\n",
      "INFO:tensorflow:global_step/sec: 983.643\n",
      "INFO:tensorflow:loss = 61.88285, step = 3300 (0.101 sec)\n",
      "INFO:tensorflow:global_step/sec: 1021.36\n",
      "INFO:tensorflow:loss = 44.255337, step = 3400 (0.098 sec)\n",
      "INFO:tensorflow:global_step/sec: 1186.08\n",
      "INFO:tensorflow:loss = 131.95204, step = 3500 (0.084 sec)\n",
      "INFO:tensorflow:global_step/sec: 1119.22\n",
      "INFO:tensorflow:loss = 90.50028, step = 3600 (0.089 sec)\n",
      "INFO:tensorflow:global_step/sec: 1344.47\n",
      "INFO:tensorflow:loss = 38.54213, step = 3700 (0.074 sec)\n",
      "INFO:tensorflow:global_step/sec: 900.577\n",
      "INFO:tensorflow:loss = 193.15523, step = 3800 (0.111 sec)\n",
      "INFO:tensorflow:global_step/sec: 1197.48\n",
      "INFO:tensorflow:loss = 75.20626, step = 3900 (0.083 sec)\n",
      "INFO:tensorflow:global_step/sec: 1301.93\n",
      "INFO:tensorflow:loss = 119.71851, step = 4000 (0.077 sec)\n",
      "INFO:tensorflow:global_step/sec: 980.099\n",
      "INFO:tensorflow:loss = 27.918385, step = 4100 (0.101 sec)\n",
      "INFO:tensorflow:global_step/sec: 1136.23\n",
      "INFO:tensorflow:loss = 35.57443, step = 4200 (0.088 sec)\n",
      "INFO:tensorflow:global_step/sec: 1054.57\n",
      "INFO:tensorflow:loss = 6.3857965, step = 4300 (0.095 sec)\n",
      "INFO:tensorflow:global_step/sec: 1196.92\n",
      "INFO:tensorflow:loss = 7.3579464, step = 4400 (0.084 sec)\n",
      "INFO:tensorflow:global_step/sec: 1004.61\n",
      "INFO:tensorflow:loss = 241.03952, step = 4500 (0.100 sec)\n",
      "INFO:tensorflow:global_step/sec: 1201.62\n",
      "INFO:tensorflow:loss = 222.19324, step = 4600 (0.083 sec)\n",
      "INFO:tensorflow:global_step/sec: 1040.66\n",
      "INFO:tensorflow:loss = 36.346844, step = 4700 (0.096 sec)\n",
      "INFO:tensorflow:global_step/sec: 1127.18\n",
      "INFO:tensorflow:loss = 221.76596, step = 4800 (0.089 sec)\n",
      "INFO:tensorflow:global_step/sec: 1036.1\n",
      "INFO:tensorflow:loss = 136.81996, step = 4900 (0.096 sec)\n",
      "INFO:tensorflow:global_step/sec: 1069.71\n",
      "INFO:tensorflow:loss = 231.12553, step = 5000 (0.094 sec)\n",
      "INFO:tensorflow:global_step/sec: 1144.79\n",
      "INFO:tensorflow:loss = 55.82884, step = 5100 (0.087 sec)\n",
      "INFO:tensorflow:global_step/sec: 996.97\n",
      "INFO:tensorflow:loss = 87.12255, step = 5200 (0.101 sec)\n",
      "INFO:tensorflow:global_step/sec: 837.198\n",
      "INFO:tensorflow:loss = 69.759026, step = 5300 (0.119 sec)\n",
      "INFO:tensorflow:global_step/sec: 1337.22\n",
      "INFO:tensorflow:loss = 128.18439, step = 5400 (0.075 sec)\n",
      "INFO:tensorflow:global_step/sec: 1045.26\n",
      "INFO:tensorflow:loss = 18.858252, step = 5500 (0.095 sec)\n",
      "INFO:tensorflow:global_step/sec: 1051.51\n",
      "INFO:tensorflow:loss = 47.35801, step = 5600 (0.095 sec)\n",
      "INFO:tensorflow:global_step/sec: 1079.6\n",
      "INFO:tensorflow:loss = 152.45761, step = 5700 (0.093 sec)\n",
      "INFO:tensorflow:global_step/sec: 1042.89\n",
      "INFO:tensorflow:loss = 3.6797807, step = 5800 (0.095 sec)\n",
      "INFO:tensorflow:global_step/sec: 1212.1\n",
      "INFO:tensorflow:loss = 39.399895, step = 5900 (0.083 sec)\n",
      "INFO:tensorflow:global_step/sec: 1284.76\n",
      "INFO:tensorflow:loss = 115.29898, step = 6000 (0.078 sec)\n",
      "INFO:tensorflow:global_step/sec: 1341.7\n",
      "INFO:tensorflow:loss = 50.542072, step = 6100 (0.075 sec)\n",
      "INFO:tensorflow:global_step/sec: 1184.13\n",
      "INFO:tensorflow:loss = 78.02693, step = 6200 (0.085 sec)\n",
      "INFO:tensorflow:global_step/sec: 1343.9\n",
      "INFO:tensorflow:loss = 45.150955, step = 6300 (0.074 sec)\n",
      "INFO:tensorflow:global_step/sec: 1276.88\n",
      "INFO:tensorflow:loss = 63.194443, step = 6400 (0.079 sec)\n",
      "INFO:tensorflow:global_step/sec: 1133.33\n",
      "INFO:tensorflow:loss = 24.055073, step = 6500 (0.088 sec)\n",
      "INFO:tensorflow:global_step/sec: 1177.58\n",
      "INFO:tensorflow:loss = 92.297226, step = 6600 (0.085 sec)\n",
      "INFO:tensorflow:global_step/sec: 1051.77\n",
      "INFO:tensorflow:loss = 193.63498, step = 6700 (0.095 sec)\n",
      "INFO:tensorflow:global_step/sec: 1175.48\n",
      "INFO:tensorflow:loss = 9.363707, step = 6800 (0.085 sec)\n",
      "INFO:tensorflow:global_step/sec: 1254.01\n",
      "INFO:tensorflow:loss = 51.76615, step = 6900 (0.081 sec)\n",
      "INFO:tensorflow:global_step/sec: 1118.12\n",
      "INFO:tensorflow:loss = 208.74109, step = 7000 (0.089 sec)\n",
      "INFO:tensorflow:global_step/sec: 1360.51\n",
      "INFO:tensorflow:loss = 49.36074, step = 7100 (0.074 sec)\n",
      "INFO:tensorflow:global_step/sec: 1159.57\n",
      "INFO:tensorflow:loss = 57.501793, step = 7200 (0.088 sec)\n",
      "INFO:tensorflow:global_step/sec: 1079.54\n",
      "INFO:tensorflow:loss = 169.27156, step = 7300 (0.091 sec)\n",
      "INFO:tensorflow:global_step/sec: 1108.74\n",
      "INFO:tensorflow:loss = 182.66428, step = 7400 (0.091 sec)\n",
      "INFO:tensorflow:global_step/sec: 1120.44\n",
      "INFO:tensorflow:loss = 74.29045, step = 7500 (0.089 sec)\n",
      "INFO:tensorflow:global_step/sec: 1082.75\n",
      "INFO:tensorflow:loss = 40.73822, step = 7600 (0.092 sec)\n",
      "INFO:tensorflow:global_step/sec: 1245.98\n",
      "INFO:tensorflow:loss = 74.00745, step = 7700 (0.080 sec)\n",
      "INFO:tensorflow:global_step/sec: 1275.09\n",
      "INFO:tensorflow:loss = 10.670961, step = 7800 (0.079 sec)\n",
      "INFO:tensorflow:global_step/sec: 1201.44\n",
      "INFO:tensorflow:loss = 5.4387827, step = 7900 (0.083 sec)\n",
      "INFO:tensorflow:global_step/sec: 1141.9\n",
      "INFO:tensorflow:loss = 44.511494, step = 8000 (0.088 sec)\n",
      "INFO:tensorflow:global_step/sec: 1233.19\n",
      "INFO:tensorflow:loss = 56.647423, step = 8100 (0.081 sec)\n",
      "INFO:tensorflow:global_step/sec: 1275.24\n",
      "INFO:tensorflow:loss = 33.139244, step = 8200 (0.079 sec)\n",
      "INFO:tensorflow:global_step/sec: 1110.26\n",
      "INFO:tensorflow:loss = 45.86374, step = 8300 (0.090 sec)\n",
      "INFO:tensorflow:global_step/sec: 1295.55\n",
      "INFO:tensorflow:loss = 77.433556, step = 8400 (0.076 sec)\n",
      "INFO:tensorflow:global_step/sec: 1153.98\n",
      "INFO:tensorflow:loss = 272.0407, step = 8500 (0.087 sec)\n",
      "INFO:tensorflow:global_step/sec: 1084.76\n",
      "INFO:tensorflow:loss = 119.56273, step = 8600 (0.092 sec)\n",
      "INFO:tensorflow:global_step/sec: 1237.62\n",
      "INFO:tensorflow:loss = 8.392598, step = 8700 (0.080 sec)\n",
      "INFO:tensorflow:global_step/sec: 1130.41\n",
      "INFO:tensorflow:loss = 48.619072, step = 8800 (0.089 sec)\n",
      "INFO:tensorflow:global_step/sec: 1023.53\n",
      "INFO:tensorflow:loss = 63.35981, step = 8900 (0.097 sec)\n",
      "INFO:tensorflow:global_step/sec: 1295.08\n",
      "INFO:tensorflow:loss = 33.344, step = 9000 (0.077 sec)\n",
      "INFO:tensorflow:global_step/sec: 1336.14\n",
      "INFO:tensorflow:loss = 90.178825, step = 9100 (0.075 sec)\n",
      "INFO:tensorflow:global_step/sec: 1290.63\n",
      "INFO:tensorflow:loss = 9.377999, step = 9200 (0.077 sec)\n",
      "INFO:tensorflow:global_step/sec: 1296.92\n",
      "INFO:tensorflow:loss = 114.23967, step = 9300 (0.077 sec)\n",
      "INFO:tensorflow:global_step/sec: 1052.04\n",
      "INFO:tensorflow:loss = 5.988279, step = 9400 (0.096 sec)\n",
      "INFO:tensorflow:global_step/sec: 973.511\n",
      "INFO:tensorflow:loss = 23.96718, step = 9500 (0.102 sec)\n",
      "INFO:tensorflow:global_step/sec: 1034.05\n",
      "INFO:tensorflow:loss = 12.536584, step = 9600 (0.097 sec)\n",
      "INFO:tensorflow:global_step/sec: 1259.32\n",
      "INFO:tensorflow:loss = 24.250767, step = 9700 (0.079 sec)\n",
      "INFO:tensorflow:global_step/sec: 1159.41\n",
      "INFO:tensorflow:loss = 112.85062, step = 9800 (0.087 sec)\n",
      "INFO:tensorflow:global_step/sec: 894.073\n",
      "INFO:tensorflow:loss = 13.507059, step = 9900 (0.111 sec)\n",
      "INFO:tensorflow:Calling checkpoint listeners before saving checkpoint 10000...\n",
      "INFO:tensorflow:Saving checkpoints for 10000 into /tmp/tmpnl_nvbda/model.ckpt.\n",
      "INFO:tensorflow:Calling checkpoint listeners after saving checkpoint 10000...\n",
      "INFO:tensorflow:Loss for final step: 83.49751.\n"
     ]
    },
    {
     "data": {
      "text/plain": [
       "<tensorflow_estimator.python.estimator.canned.linear.LinearClassifierV2 at 0x72e3492330a0>"
      ]
     },
     "execution_count": 90,
     "metadata": {},
     "output_type": "execute_result"
    }
   ],
   "source": [
    "classificador.train(input_fn=funcao_treinamento, steps=10_000)"
   ]
  },
  {
   "cell_type": "code",
   "execution_count": null,
   "metadata": {},
   "outputs": [],
   "source": []
  }
 ],
 "metadata": {
  "kernelspec": {
   "display_name": ".venv",
   "language": "python",
   "name": "python3"
  },
  "language_info": {
   "codemirror_mode": {
    "name": "ipython",
    "version": 3
   },
   "file_extension": ".py",
   "mimetype": "text/x-python",
   "name": "python",
   "nbconvert_exporter": "python",
   "pygments_lexer": "ipython3",
   "version": "3.9.21"
  }
 },
 "nbformat": 4,
 "nbformat_minor": 2
}
