{
 "cells": [
  {
   "cell_type": "code",
   "execution_count": 1,
   "id": "f4a9c097",
   "metadata": {},
   "outputs": [
    {
     "name": "stderr",
     "output_type": "stream",
     "text": [
      "2025-04-14 13:03:17.291007: I tensorflow/core/platform/cpu_feature_guard.cc:193] This TensorFlow binary is optimized with oneAPI Deep Neural Network Library (oneDNN) to use the following CPU instructions in performance-critical operations:  AVX2 AVX_VNNI FMA\n",
      "To enable them in other operations, rebuild TensorFlow with the appropriate compiler flags.\n",
      "2025-04-14 13:03:17.356110: I tensorflow/core/util/port.cc:104] oneDNN custom operations are on. You may see slightly different numerical results due to floating-point round-off errors from different computation orders. To turn them off, set the environment variable `TF_ENABLE_ONEDNN_OPTS=0`.\n",
      "2025-04-14 13:03:17.358384: W tensorflow/compiler/xla/stream_executor/platform/default/dso_loader.cc:64] Could not load dynamic library 'libcudart.so.11.0'; dlerror: libcudart.so.11.0: cannot open shared object file: No such file or directory\n",
      "2025-04-14 13:03:17.358394: I tensorflow/compiler/xla/stream_executor/cuda/cudart_stub.cc:29] Ignore above cudart dlerror if you do not have a GPU set up on your machine.\n",
      "2025-04-14 13:03:17.735498: W tensorflow/compiler/xla/stream_executor/platform/default/dso_loader.cc:64] Could not load dynamic library 'libnvinfer.so.7'; dlerror: libnvinfer.so.7: cannot open shared object file: No such file or directory\n",
      "2025-04-14 13:03:17.735535: W tensorflow/compiler/xla/stream_executor/platform/default/dso_loader.cc:64] Could not load dynamic library 'libnvinfer_plugin.so.7'; dlerror: libnvinfer_plugin.so.7: cannot open shared object file: No such file or directory\n",
      "2025-04-14 13:03:17.735538: W tensorflow/compiler/tf2tensorrt/utils/py_utils.cc:38] TF-TRT Warning: Cannot dlopen some TensorRT libraries. If you would like to use Nvidia GPU with TensorRT, please make sure the missing libraries mentioned above are installed properly.\n"
     ]
    },
    {
     "data": {
      "text/plain": [
       "'2.11.0'"
      ]
     },
     "execution_count": 1,
     "metadata": {},
     "output_type": "execute_result"
    }
   ],
   "source": [
    "import numpy as np\n",
    "import tensorflow as tf\n",
    "\n",
    "tf.random.set_seed(42)\n",
    "\n",
    "tf.__version__"
   ]
  },
  {
   "cell_type": "code",
   "execution_count": 2,
   "id": "e713ef97",
   "metadata": {},
   "outputs": [
    {
     "data": {
      "text/plain": [
       "array([[0, 0],\n",
       "       [0, 1],\n",
       "       [1, 0],\n",
       "       [1, 1]])"
      ]
     },
     "execution_count": 2,
     "metadata": {},
     "output_type": "execute_result"
    }
   ],
   "source": [
    "X = np.array(\n",
    "    [\n",
    "        [0, 0],\n",
    "        [0, 1],\n",
    "        [1, 0],\n",
    "        [1, 1],\n",
    "    ]\n",
    ")\n",
    "X"
   ]
  },
  {
   "cell_type": "code",
   "execution_count": 3,
   "id": "680c6bc9",
   "metadata": {},
   "outputs": [
    {
     "data": {
      "text/plain": [
       "array([[1],\n",
       "       [0],\n",
       "       [0],\n",
       "       [1]])"
      ]
     },
     "execution_count": 3,
     "metadata": {},
     "output_type": "execute_result"
    }
   ],
   "source": [
    "y = np.array([\n",
    "    [1],\n",
    "    [0],\n",
    "    [0],\n",
    "    [1],\n",
    "])\n",
    "y"
   ]
  },
  {
   "cell_type": "code",
   "execution_count": 4,
   "id": "3c8c0427",
   "metadata": {},
   "outputs": [
    {
     "name": "stderr",
     "output_type": "stream",
     "text": [
      "2025-04-14 13:05:09.265708: I tensorflow/compiler/xla/stream_executor/cuda/cuda_gpu_executor.cc:981] successful NUMA node read from SysFS had negative value (-1), but there must be at least one NUMA node, so returning NUMA node zero\n",
      "2025-04-14 13:05:09.270860: W tensorflow/compiler/xla/stream_executor/platform/default/dso_loader.cc:64] Could not load dynamic library 'libcudart.so.11.0'; dlerror: libcudart.so.11.0: cannot open shared object file: No such file or directory\n",
      "2025-04-14 13:05:09.270901: W tensorflow/compiler/xla/stream_executor/platform/default/dso_loader.cc:64] Could not load dynamic library 'libcublas.so.11'; dlerror: libcublas.so.11: cannot open shared object file: No such file or directory\n",
      "2025-04-14 13:05:09.270923: W tensorflow/compiler/xla/stream_executor/platform/default/dso_loader.cc:64] Could not load dynamic library 'libcublasLt.so.11'; dlerror: libcublasLt.so.11: cannot open shared object file: No such file or directory\n",
      "2025-04-14 13:05:09.270943: W tensorflow/compiler/xla/stream_executor/platform/default/dso_loader.cc:64] Could not load dynamic library 'libcufft.so.10'; dlerror: libcufft.so.10: cannot open shared object file: No such file or directory\n",
      "2025-04-14 13:05:09.303359: W tensorflow/compiler/xla/stream_executor/platform/default/dso_loader.cc:64] Could not load dynamic library 'libcusparse.so.11'; dlerror: libcusparse.so.11: cannot open shared object file: No such file or directory\n",
      "2025-04-14 13:05:09.303406: W tensorflow/compiler/xla/stream_executor/platform/default/dso_loader.cc:64] Could not load dynamic library 'libcudnn.so.8'; dlerror: libcudnn.so.8: cannot open shared object file: No such file or directory\n",
      "2025-04-14 13:05:09.303415: W tensorflow/core/common_runtime/gpu/gpu_device.cc:1934] Cannot dlopen some GPU libraries. Please make sure the missing libraries mentioned above are installed properly if you would like to use GPU. Follow the guide at https://www.tensorflow.org/install/gpu for how to download and setup the required libraries for your platform.\n",
      "Skipping registering GPU devices...\n",
      "2025-04-14 13:05:09.304080: I tensorflow/core/platform/cpu_feature_guard.cc:193] This TensorFlow binary is optimized with oneAPI Deep Neural Network Library (oneDNN) to use the following CPU instructions in performance-critical operations:  AVX2 AVX_VNNI FMA\n",
      "To enable them in other operations, rebuild TensorFlow with the appropriate compiler flags.\n"
     ]
    }
   ],
   "source": [
    "X = tf.convert_to_tensor(X, dtype=tf.float32, name='X')\n",
    "y = tf.convert_to_tensor(y, dtype=tf.float32, name='y')"
   ]
  },
  {
   "cell_type": "code",
   "execution_count": 8,
   "id": "27859890",
   "metadata": {},
   "outputs": [],
   "source": [
    "neuronios_entrada = 2\n",
    "neuronios_oculta = 3\n",
    "neuronios_saida = 1"
   ]
  },
  {
   "cell_type": "code",
   "execution_count": 9,
   "id": "cceb2630",
   "metadata": {},
   "outputs": [],
   "source": [
    "W = {\n",
    "    'oculta': tf.Variable(\n",
    "        tf.random.normal(\n",
    "            [neuronios_entrada, neuronios_oculta],\n",
    "            name = 'w_oculta',\n",
    "        )\n",
    "    ),\n",
    "    'saida': tf.Variable(\n",
    "        tf.random.normal(\n",
    "            [neuronios_oculta, neuronios_saida],\n",
    "            name = 'w_saida',\n",
    "        )\n",
    "    ),\n",
    "}"
   ]
  },
  {
   "cell_type": "code",
   "execution_count": 10,
   "id": "34bb61ae",
   "metadata": {},
   "outputs": [
    {
     "data": {
      "text/plain": [
       "dict"
      ]
     },
     "execution_count": 10,
     "metadata": {},
     "output_type": "execute_result"
    }
   ],
   "source": [
    "type(W)"
   ]
  },
  {
   "cell_type": "code",
   "execution_count": 11,
   "id": "83ac34fe",
   "metadata": {},
   "outputs": [
    {
     "data": {
      "text/plain": [
       "tensorflow.python.ops.resource_variable_ops.ResourceVariable"
      ]
     },
     "execution_count": 11,
     "metadata": {},
     "output_type": "execute_result"
    }
   ],
   "source": [
    "type(W['oculta'])"
   ]
  },
  {
   "cell_type": "code",
   "execution_count": 12,
   "id": "a6a73028",
   "metadata": {},
   "outputs": [
    {
     "data": {
      "text/plain": [
       "<tf.Variable 'Variable:0' shape=(2, 3) dtype=float32, numpy=\n",
       "array([[ 0.08422458, -0.86090374,  0.37812304],\n",
       "       [-0.00519627, -0.49453196,  0.6178192 ]], dtype=float32)>"
      ]
     },
     "execution_count": 12,
     "metadata": {},
     "output_type": "execute_result"
    }
   ],
   "source": [
    "W['oculta']"
   ]
  },
  {
   "cell_type": "code",
   "execution_count": 13,
   "id": "a2ec077c",
   "metadata": {},
   "outputs": [
    {
     "data": {
      "text/plain": [
       "<tf.Variable 'Variable:0' shape=(3, 1) dtype=float32, numpy=\n",
       "array([[-0.55909735],\n",
       "       [-0.5347214 ],\n",
       "       [ 2.3730333 ]], dtype=float32)>"
      ]
     },
     "execution_count": 13,
     "metadata": {},
     "output_type": "execute_result"
    }
   ],
   "source": [
    "W['saida']"
   ]
  },
  {
   "cell_type": "code",
   "execution_count": 21,
   "id": "2b97c960",
   "metadata": {},
   "outputs": [
    {
     "data": {
      "text/plain": [
       "<Axes: ylabel='Density'>"
      ]
     },
     "execution_count": 21,
     "metadata": {},
     "output_type": "execute_result"
    },
    {
     "data": {
      "image/png": "[encoded data removed]",
      "text/plain": [
       "<Figure size 640x480 with 1 Axes>"
      ]
     },
     "metadata": {},
     "output_type": "display_data"
    }
   ],
   "source": [
    "distribuicao = np.random.normal(size=500)\n",
    "import seaborn as sns\n",
    "sns.histplot(distribuicao, kde=True, stat=\"density\")"
   ]
  },
  {
   "cell_type": "code",
   "execution_count": 22,
   "id": "d2ab2b36",
   "metadata": {},
   "outputs": [],
   "source": [
    "b = {\n",
    "    'oculta': tf.Variable(tf.random.normal([neuronios_oculta]), name='b_oculta'),\n",
    "    'saida': tf.Variable(tf.random.normal([neuronios_saida]), name='b_saida'),\n",
    "}"
   ]
  },
  {
   "cell_type": "code",
   "execution_count": 24,
   "id": "462061ab",
   "metadata": {},
   "outputs": [
    {
     "name": "stdout",
     "output_type": "stream",
     "text": [
      "0.3220464\n",
      "0.24903727\n",
      "0.2353735\n",
      "0.1525687\n",
      "0.035297062\n",
      "0.011265448\n",
      "0.0060558077\n",
      "0.004022341\n",
      "0.0029742648\n",
      "0.002344248\n",
      "0.0019270438\n",
      "0.0016318206\n",
      "0.0014125959\n",
      "0.0012437445\n",
      "0.001109912\n",
      "0.0010013604\n",
      "0.0009116299\n",
      "0.00083627435\n",
      "0.00077213504\n",
      "0.00071690755\n",
      "0.00066887634\n",
      "0.00062673783\n",
      "0.0005894796\n",
      "0.0005563085\n",
      "0.0005265954\n",
      "0.00049983105\n",
      "0.00047560254\n",
      "0.0004535672\n",
      "0.00043344562\n",
      "0.00041499885\n",
      "0.000398029\n",
      "0.00038236694\n",
      "0.00036786913\n",
      "0.0003544097\n",
      "0.0003418845\n",
      "0.00033019733\n",
      "0.00031927045\n",
      "0.00030903085\n",
      "0.00029941712\n",
      "0.00029037357\n",
      "0.00028185095\n",
      "0.00027380625\n",
      "0.00026620197\n",
      "0.00025900186\n",
      "0.00025217328\n",
      "0.0002456908\n",
      "0.00023952863\n",
      "0.00023366229\n",
      "0.00022807336\n",
      "0.0002227413\n"
     ]
    }
   ],
   "source": [
    "otimizador = tf.keras.optimizers.SGD(learning_rate=0.3)\n",
    "\n",
    "for epoca in range(10_000):\n",
    "\n",
    "    with tf.GradientTape() as tape:\n",
    "        camada_oculta = tf.add(tf.matmul(X, W['oculta']), b['oculta'])\n",
    "        camada_oculta_ativacao = tf.sigmoid(camada_oculta)\n",
    "        camada_saida = tf.add(tf.matmul(camada_oculta_ativacao, W['saida']), b['saida'])\n",
    "        camada_saida_ativacao = tf.sigmoid(camada_saida)\n",
    "        erro = tf.keras.losses.MSE(y, camada_saida_ativacao)\n",
    "\n",
    "    var_list = [\n",
    "        W['oculta'],\n",
    "        W['saida'],\n",
    "        b['oculta'],\n",
    "        b['saida'],\n",
    "    ]\n",
    "\n",
    "    gradientes = tape.gradient(erro, var_list)\n",
    "\n",
    "    otimizador.apply_gradients(zip(gradientes, var_list))\n",
    "\n",
    "    if epoca % 200 == 0:\n",
    "        erro_medio = tf.reduce_mean(erro).numpy()\n",
    "        print(erro_medio)\n"
   ]
  },
  {
   "cell_type": "code",
   "execution_count": 25,
   "id": "1e13da5c",
   "metadata": {},
   "outputs": [
    {
     "data": {
      "text/plain": [
       "{'oculta': <tf.Variable 'Variable:0' shape=(2, 3) dtype=float32, numpy=\n",
       " array([[ 5.447239 , -6.4777393, -3.5317693],\n",
       "        [ 5.5995836,  3.944753 ,  6.276525 ]], dtype=float32)>,\n",
       " 'saida': <tf.Variable 'Variable:0' shape=(3, 1) dtype=float32, numpy=\n",
       " array([[-6.410737],\n",
       "        [-9.259571],\n",
       "        [ 9.271779]], dtype=float32)>}"
      ]
     },
     "execution_count": 25,
     "metadata": {},
     "output_type": "execute_result"
    }
   ],
   "source": [
    "W"
   ]
  },
  {
   "cell_type": "code",
   "execution_count": 26,
   "id": "9781557b",
   "metadata": {},
   "outputs": [
    {
     "data": {
      "text/plain": [
       "{'oculta': <tf.Variable 'b_oculta:0' shape=(3,) dtype=float32, numpy=array([-1.432679 , -1.3138111,  0.9690788], dtype=float32)>,\n",
       " 'saida': <tf.Variable 'b_saida:0' shape=(1,) dtype=float32, numpy=array([1.4729552], dtype=float32)>}"
      ]
     },
     "execution_count": 26,
     "metadata": {},
     "output_type": "execute_result"
    }
   ],
   "source": [
    "b"
   ]
  },
  {
   "cell_type": "code",
   "execution_count": 28,
   "id": "af9d1b6d",
   "metadata": {},
   "outputs": [],
   "source": [
    "camada_oculta_teste = tf.add(tf.matmul(X, W['oculta']), b['oculta'])\n",
    "camada_oculta_ativacao_teste = tf.sigmoid(camada_oculta_teste)\n",
    "camada_saida_teste = tf.add(tf.matmul(camada_oculta_ativacao_teste, W['saida']), b['saida'])\n",
    "camada_saida_ativacao_teste = tf.sigmoid(camada_saida_teste)"
   ]
  },
  {
   "cell_type": "code",
   "execution_count": 29,
   "id": "b0a68513",
   "metadata": {},
   "outputs": [
    {
     "data": {
      "text/plain": [
       "<tf.Tensor: shape=(4, 1), dtype=float32, numpy=\n",
       "array([[0.9932907 ],\n",
       "       [0.01459556],\n",
       "       [0.0153031 ],\n",
       "       [0.98054844]], dtype=float32)>"
      ]
     },
     "execution_count": 29,
     "metadata": {},
     "output_type": "execute_result"
    }
   ],
   "source": [
    "camada_saida_ativacao_teste"
   ]
  },
  {
   "cell_type": "code",
   "execution_count": null,
   "id": "60984827",
   "metadata": {},
   "outputs": [],
   "source": []
  }
 ],
 "metadata": {
  "kernelspec": {
   "display_name": ".venv",
   "language": "python",
   "name": "python3"
  },
  "language_info": {
   "codemirror_mode": {
    "name": "ipython",
    "version": 3
   },
   "file_extension": ".py",
   "mimetype": "text/x-python",
   "name": "python",
   "nbconvert_exporter": "python",
   "pygments_lexer": "ipython3",
   "version": "3.9.21"
  }
 },
 "nbformat": 4,
 "nbformat_minor": 5
}
