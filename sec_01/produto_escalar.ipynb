{
 "cells": [
  {
   "cell_type": "code",
   "execution_count": 2,
   "metadata": {},
   "outputs": [],
   "source": [
    "import tensorflow as tf"
   ]
  },
  {
   "cell_type": "code",
   "execution_count": 7,
   "metadata": {},
   "outputs": [],
   "source": [
    "a = tf.constant([[-1.0, 7.0, 5.0]], name = 'entradas')\n",
    "b = tf.constant([[0.8, 0.1, 0]], name = 'pesos')"
   ]
  },
  {
   "cell_type": "code",
   "execution_count": 8,
   "metadata": {},
   "outputs": [],
   "source": [
    "multiplicacao = tf.multiply(a, b)\n",
    "soma = tf.reduce_sum(multiplicacao)"
   ]
  },
  {
   "cell_type": "code",
   "execution_count": 9,
   "metadata": {},
   "outputs": [
    {
     "name": "stdout",
     "output_type": "stream",
     "text": [
      "tf.Tensor([[-1.  7.  5.]], shape=(1, 3), dtype=float32)\n",
      "\n",
      "\n",
      "tf.Tensor([[0.8 0.1 0. ]], shape=(1, 3), dtype=float32)\n",
      "\n",
      "\n",
      "tf.Tensor([[-0.8  0.7  0. ]], shape=(1, 3), dtype=float32)\n",
      "\n",
      "\n",
      "tf.Tensor(-0.100000024, shape=(), dtype=float32)\n"
     ]
    }
   ],
   "source": [
    "print(a)\n",
    "print('\\n')\n",
    "print(b)\n",
    "print('\\n')\n",
    "print(multiplicacao)\n",
    "print('\\n')\n",
    "print(soma)"
   ]
  },
  {
   "cell_type": "code",
   "execution_count": null,
   "metadata": {},
   "outputs": [],
   "source": []
  }
 ],
 "metadata": {
  "colab": {
   "name": "produto_escalar.ipynb",
   "provenance": []
  },
  "kernelspec": {
   "display_name": ".venv",
   "language": "python",
   "name": "python3"
  },
  "language_info": {
   "codemirror_mode": {
    "name": "ipython",
    "version": 3
   },
   "file_extension": ".py",
   "mimetype": "text/x-python",
   "name": "python",
   "nbconvert_exporter": "python",
   "pygments_lexer": "ipython3",
   "version": "3.9.21"
  }
 },
 "nbformat": 4,
 "nbformat_minor": 0
}
